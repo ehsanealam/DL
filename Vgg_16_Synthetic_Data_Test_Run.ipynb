{
  "nbformat": 4,
  "nbformat_minor": 0,
  "metadata": {
    "colab": {
      "provenance": []
    },
    "kernelspec": {
      "name": "python3",
      "display_name": "Python 3"
    },
    "language_info": {
      "name": "python"
    }
  },
  "cells": [
    {
      "cell_type": "code",
      "execution_count": 2,
      "metadata": {
        "colab": {
          "base_uri": "https://localhost:8080/"
        },
        "id": "7n_V1d3qEekW",
        "outputId": "22e45e91-dbdd-4edb-9172-d1db6ad334e4"
      },
      "outputs": [
        {
          "output_type": "stream",
          "name": "stdout",
          "text": [
            "Epoch 1/10\n",
            "3/3 [==============================] - 59s 20s/step - loss: 41.7614 - accuracy: 0.1000 - val_loss: 71.4063 - val_accuracy: 0.1000\n",
            "Epoch 2/10\n",
            "3/3 [==============================] - 67s 24s/step - loss: 64.5816 - accuracy: 0.1250 - val_loss: 43.6131 - val_accuracy: 0.1500\n",
            "Epoch 3/10\n",
            "3/3 [==============================] - 67s 24s/step - loss: 35.0632 - accuracy: 0.1375 - val_loss: 10.3716 - val_accuracy: 0.1000\n",
            "Epoch 4/10\n",
            "3/3 [==============================] - 67s 24s/step - loss: 12.6983 - accuracy: 0.4000 - val_loss: 11.8870 - val_accuracy: 0.1000\n",
            "Epoch 5/10\n",
            "3/3 [==============================] - 67s 24s/step - loss: 10.2073 - accuracy: 0.2750 - val_loss: 12.4233 - val_accuracy: 0.1500\n",
            "Epoch 6/10\n",
            "3/3 [==============================] - 67s 24s/step - loss: 7.6408 - accuracy: 0.3500 - val_loss: 13.9483 - val_accuracy: 0.0500\n",
            "Epoch 7/10\n",
            "3/3 [==============================] - 66s 24s/step - loss: 6.2598 - accuracy: 0.4875 - val_loss: 10.3738 - val_accuracy: 0.1500\n",
            "Epoch 8/10\n",
            "3/3 [==============================] - 66s 24s/step - loss: 3.4124 - accuracy: 0.6500 - val_loss: 7.5282 - val_accuracy: 0.1000\n",
            "Epoch 9/10\n",
            "3/3 [==============================] - 66s 24s/step - loss: 2.0943 - accuracy: 0.7250 - val_loss: 5.4850 - val_accuracy: 0.0000e+00\n",
            "Epoch 10/10\n",
            "3/3 [==============================] - 66s 24s/step - loss: 0.5933 - accuracy: 0.8875 - val_loss: 8.5286 - val_accuracy: 0.0500\n",
            "4/4 [==============================] - 57s 13s/step - loss: 2.2978 - accuracy: 0.6000\n",
            "Accuracy: 0.6000000238418579\n"
          ]
        }
      ],
      "source": [
        "import numpy as np\n",
        "from keras.models import Sequential\n",
        "from keras.layers import Dense, Flatten\n",
        "from keras.applications.vgg16 import VGG16, preprocess_input\n",
        "from keras.optimizers import Adam\n",
        "from keras.utils import to_categorical\n",
        "\n",
        "\n",
        "num_samples = 100\n",
        "image_size = (224, 224, 3)\n",
        "num_classes = 10\n",
        "\n",
        "\n",
        "synthetic_images = np.random.randint(0, 256, (num_samples, *image_size), dtype=np.uint8)\n",
        "\n",
        "\n",
        "synthetic_labels = np.random.randint(0, num_classes, num_samples)\n",
        "\n",
        "\n",
        "synthetic_labels = to_categorical(synthetic_labels, num_classes=num_classes)\n",
        "\n",
        "\n",
        "base_model = VGG16(weights='imagenet', include_top=False, input_shape=image_size)\n",
        "\n",
        "\n",
        "for layer in base_model.layers:\n",
        "    layer.trainable = False\n",
        "\n",
        "\n",
        "model = Sequential([\n",
        "    base_model,\n",
        "    Flatten(),\n",
        "    Dense(256, activation='relu'),\n",
        "    Dense(num_classes, activation='softmax')\n",
        "])\n",
        "\n",
        "\n",
        "model.compile(optimizer=Adam(), loss='categorical_crossentropy', metrics=['accuracy'])\n",
        "\n",
        "model.fit(preprocess_input(synthetic_images), synthetic_labels, epochs=10, batch_size=32, validation_split=0.2)\n",
        "\n",
        "\n",
        "loss, accuracy = model.evaluate(preprocess_input(synthetic_images), synthetic_labels)\n",
        "print(f\"Accuracy: {accuracy}\")\n"
      ]
    }
  ]
}